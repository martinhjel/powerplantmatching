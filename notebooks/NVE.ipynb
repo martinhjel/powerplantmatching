{
 "cells": [
  {
   "cell_type": "code",
   "execution_count": null,
   "metadata": {},
   "outputs": [],
   "source": [
    "import powerplantmatching as pm\n",
    "import pandas as pd"
   ]
  },
  {
   "cell_type": "code",
   "execution_count": null,
   "id": "5e886d41",
   "metadata": {},
   "outputs": [],
   "source": [
    "nve_hydro_dataset = \"https://www.nve.no/umbraco/api/Powerplant/GetHydroPowerPlantsInOperation\""
   ]
  },
  {
   "cell_type": "code",
   "execution_count": null,
   "id": "2118b0fa",
   "metadata": {},
   "outputs": [],
   "source": [
    "df = pd.read_json(nve_hydro_dataset)"
   ]
  },
  {
   "cell_type": "code",
   "execution_count": null,
   "id": "4de9a7b5",
   "metadata": {},
   "outputs": [],
   "source": [
    "df.head()"
   ]
  },
  {
   "cell_type": "code",
   "execution_count": null,
   "id": "381e810c",
   "metadata": {},
   "outputs": [],
   "source": [
    "df.shape"
   ]
  },
  {
   "cell_type": "code",
   "execution_count": null,
   "id": "ca863c4d",
   "metadata": {},
   "outputs": [],
   "source": [
    "df.MaksYtelse.sum()"
   ]
  },
  {
   "cell_type": "code",
   "execution_count": null,
   "id": "2e90b062",
   "metadata": {},
   "outputs": [],
   "source": [
    "pm.core.package_config['data_dir']"
   ]
  },
  {
   "cell_type": "code",
   "execution_count": null,
   "id": "b8c2c0c0",
   "metadata": {},
   "outputs": [],
   "source": [
    "df_orig = pm.powerplants(from_url=True)"
   ]
  },
  {
   "cell_type": "code",
   "execution_count": null,
   "id": "ed66d246",
   "metadata": {},
   "outputs": [],
   "source": [
    "df_orig.head()"
   ]
  },
  {
   "cell_type": "code",
   "execution_count": null,
   "id": "0ebb576f",
   "metadata": {},
   "outputs": [],
   "source": [
    "df_orig.Fueltype.unique()"
   ]
  },
  {
   "cell_type": "code",
   "execution_count": null,
   "id": "f072dc5a",
   "metadata": {},
   "outputs": [],
   "source": [
    "df_orig[(df_orig.Fueltype==\"Hydro\") & (df_orig.Country ==\"Norway\")].Capacity.sum()"
   ]
  },
  {
   "cell_type": "code",
   "execution_count": null,
   "id": "35eff84a",
   "metadata": {},
   "outputs": [],
   "source": [
    "df_orig[(df_orig.Fueltype==\"Hydro\") & (df_orig.Country ==\"Norway\")]"
   ]
  },
  {
   "cell_type": "code",
   "execution_count": null,
   "id": "809ebd6f",
   "metadata": {},
   "outputs": [],
   "source": [
    "df.columns"
   ]
  },
  {
   "cell_type": "code",
   "execution_count": null,
   "id": "a63240b3",
   "metadata": {},
   "outputs": [],
   "source": [
    "df_orig.columns"
   ]
  },
  {
   "cell_type": "code",
   "execution_count": null,
   "id": "bc89f65f",
   "metadata": {},
   "outputs": [],
   "source": [
    "df.head()"
   ]
  },
  {
   "cell_type": "code",
   "execution_count": null,
   "id": "da92aefa",
   "metadata": {},
   "outputs": [],
   "source": [
    "df.VannKVType.unique()"
   ]
  },
  {
   "cell_type": "code",
   "execution_count": null,
   "id": "63c77e41",
   "metadata": {},
   "outputs": [],
   "source": [
    "df.BruttoFallhoyde_M.hist()"
   ]
  },
  {
   "cell_type": "code",
   "execution_count": null,
   "id": "0c9b238d",
   "metadata": {},
   "outputs": [],
   "source": [
    "df_jrc = pm.data.JRC()"
   ]
  },
  {
   "cell_type": "code",
   "execution_count": null,
   "id": "82e090bd",
   "metadata": {},
   "outputs": [],
   "source": [
    "df_jrc.head()"
   ]
  },
  {
   "cell_type": "code",
   "execution_count": null,
   "id": "372568a2",
   "metadata": {},
   "outputs": [],
   "source": [
    "df_jrc[(df_jrc.Fueltype==\"Hydro\") & (df_jrc.Country ==\"Norway\")].Capacity.sum()"
   ]
  },
  {
   "cell_type": "code",
   "execution_count": null,
   "id": "fcdc40d5",
   "metadata": {},
   "outputs": [],
   "source": [
    "df_jrc[(df_jrc.Fueltype==\"Hydro\") & (df_jrc.Country ==\"Norway\")]"
   ]
  },
  {
   "cell_type": "code",
   "execution_count": null,
   "id": "e0c7c86a",
   "metadata": {},
   "outputs": [],
   "source": [
    "df_jrc[(df_jrc.Fueltype==\"Hydro\") & (df_jrc.Country ==\"Norway\")].Capacity.min()"
   ]
  },
  {
   "cell_type": "code",
   "execution_count": null,
   "id": "4d01ec7f",
   "metadata": {},
   "outputs": [],
   "source": [
    "df_jrc[(df_jrc.Fueltype==\"Hydro\") & (df_jrc.Country ==\"Norway\") & (df_jrc.Set == \"Store\")]"
   ]
  },
  {
   "cell_type": "code",
   "execution_count": null,
   "id": "e054dbe9",
   "metadata": {},
   "outputs": [],
   "source": [
    "df_jrc.Technology.value_counts()"
   ]
  },
  {
   "cell_type": "code",
   "execution_count": null,
   "id": "1b992f6b",
   "metadata": {},
   "outputs": [],
   "source": [
    "df_jrc.Set.unique()"
   ]
  },
  {
   "cell_type": "code",
   "execution_count": null,
   "id": "dd3beb8b",
   "metadata": {},
   "outputs": [],
   "source": [
    "df.head()"
   ]
  },
  {
   "cell_type": "code",
   "execution_count": null,
   "id": "f8c56bd5",
   "metadata": {},
   "outputs": [],
   "source": [
    "df.VannKVType.value_counts()"
   ]
  },
  {
   "cell_type": "code",
   "execution_count": null,
   "id": "8e6cc57a",
   "metadata": {},
   "outputs": [],
   "source": [
    "df_entsoe = pm.data.ENTSOE()"
   ]
  },
  {
   "cell_type": "code",
   "execution_count": null,
   "id": "ff84c402",
   "metadata": {},
   "outputs": [],
   "source": [
    "df_entsoe.Technology.value_counts()"
   ]
  },
  {
   "cell_type": "code",
   "execution_count": null,
   "id": "a64a47ec",
   "metadata": {},
   "outputs": [],
   "source": [
    "df_entsoe[(df_entsoe.Fueltype==\"Hydro\") & (df_entsoe.Country ==\"Norway\")]"
   ]
  },
  {
   "cell_type": "code",
   "execution_count": null,
   "id": "7da8173d",
   "metadata": {},
   "outputs": [],
   "source": [
    "df_entsoe[(df_entsoe.Fueltype==\"Hydro\") & (df_entsoe.Country ==\"Norway\")].Technology.value_counts()"
   ]
  },
  {
   "cell_type": "code",
   "execution_count": null,
   "id": "b83ddc7e",
   "metadata": {},
   "outputs": [],
   "source": [
    "df_pp = pm.powerplants(from_url=True)"
   ]
  },
  {
   "cell_type": "code",
   "execution_count": null,
   "id": "9ca88adf",
   "metadata": {},
   "outputs": [],
   "source": [
    "df_pp[(df_pp.Fueltype==\"Hydro\") & (df_pp.Country ==\"Norway\")]"
   ]
  },
  {
   "cell_type": "code",
   "execution_count": null,
   "id": "1aa2567f",
   "metadata": {},
   "outputs": [],
   "source": [
    "df_pp[(df_pp.Fueltype==\"Hydro\") & (df_pp.Country ==\"Norway\")].Set.value_counts()"
   ]
  },
  {
   "cell_type": "code",
   "execution_count": null,
   "id": "c5d5c612",
   "metadata": {},
   "outputs": [],
   "source": [
    "df_pp[(df_pp.Fueltype==\"Hydro\") & (df_pp.Country ==\"Norway\")].Technology.value_counts()"
   ]
  },
  {
   "cell_type": "code",
   "execution_count": null,
   "id": "3ee3ba94",
   "metadata": {},
   "outputs": [],
   "source": []
  }
 ],
 "metadata": {
  "kernelspec": {
   "display_name": "powerplantmatching",
   "language": "python",
   "name": "python3"
  },
  "language_info": {
   "codemirror_mode": {
    "name": "ipython",
    "version": 3
   },
   "file_extension": ".py",
   "mimetype": "text/x-python",
   "name": "python",
   "nbconvert_exporter": "python",
   "pygments_lexer": "ipython3",
   "version": "3.11.3"
  }
 },
 "nbformat": 4,
 "nbformat_minor": 5
}
